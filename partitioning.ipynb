{
  "cells": [
    {
      "cell_type": "code",
      "execution_count": 2,
      "metadata": {
        "colab": {
          "base_uri": "https://localhost:8080/"
        },
        "id": "d2bZtErTgdRn",
        "outputId": "76e8891f-f6aa-40c4-fa29-7b2fd06dd63b"
      },
      "outputs": [
        {
          "name": "stdout",
          "output_type": "stream",
          "text": [
            "W: Skipping acquire of configured file 'main/source/Sources' as repository 'https://r2u.stat.illinois.edu/ubuntu jammy InRelease' does not seem to provide it (sources.list entry misspelt?)\n"
          ]
        }
      ],
      "source": [
        "# Install dependencies\n",
        "!apt-get update -qq\n",
        "!apt-get install openjdk-8-jdk-headless -qq > /dev/null\n",
        "!wget -q https://archive.apache.org/dist/spark/spark-3.1.2/spark-3.1.2-bin-hadoop2.7.tgz\n",
        "!tar xf spark-3.1.2-bin-hadoop2.7.tgz\n",
        "!pip install -q findspark"
      ]
    },
    {
      "cell_type": "code",
      "execution_count": 3,
      "metadata": {
        "id": "8Xg7j80vgfG9"
      },
      "outputs": [],
      "source": [
        "# Storing access in environment variable\n",
        "import os\n",
        "os.environ[\"JAVA_HOME\"] = \"/usr/lib/jvm/java-8-openjdk-amd64\"\n",
        "os.environ[\"SPARK_HOME\"] = \"/content/spark-3.1.2-bin-hadoop2.7\""
      ]
    },
    {
      "cell_type": "code",
      "execution_count": 4,
      "metadata": {
        "id": "7tOIbRJkgght"
      },
      "outputs": [],
      "source": [
        "# Initializing spark\n",
        "import findspark\n",
        "findspark.init()"
      ]
    },
    {
      "cell_type": "code",
      "execution_count": 5,
      "metadata": {
        "id": "nG-M8vKbghle"
      },
      "outputs": [],
      "source": [
        "# Initialize a Spark session\n",
        "from pyspark.sql import SparkSession\n",
        "\n",
        "spark = SparkSession.builder\\\n",
        "     .master('local[*]')\\\n",
        "    .appName(\"Iniciando com Spark\")\\\n",
        "    .config('spark.ui.port', '4050')\\\n",
        "    .getOrCreate()"
      ]
    },
    {
      "cell_type": "code",
      "execution_count": 6,
      "metadata": {
        "colab": {
          "base_uri": "https://localhost:8080/"
        },
        "id": "9tNUDpJZgyTa",
        "outputId": "acbcfea2-f36e-40a5-825a-9c9cb4a03cec"
      },
      "outputs": [
        {
          "name": "stdout",
          "output_type": "stream",
          "text": [
            "Archive:  ngrok-stable-linux-amd64.zip\n",
            "  inflating: ngrok                   \n"
          ]
        }
      ],
      "source": [
        "# Download the ngrok files to use in the spark session\n",
        "!wget -q https://bin.equinox.io/c/4VmDzA7iaHb/ngrok-stable-linux-amd64.zip\n",
        "!unzip ngrok-stable-linux-amd64.zip"
      ]
    },
    {
      "cell_type": "code",
      "execution_count": 7,
      "metadata": {
        "id": "wQwUhY3jgzc8"
      },
      "outputs": [],
      "source": [
        "# Expose ngrok access server\n",
        "get_ipython().system_raw('./ngrok http 4050 &')"
      ]
    },
    {
      "cell_type": "code",
      "execution_count": 10,
      "metadata": {
        "colab": {
          "base_uri": "https://localhost:8080/"
        },
        "id": "r4A9zdWAoBBc",
        "outputId": "65ef5220-931f-45ba-f03c-6fed8e4ddb8c"
      },
      "outputs": [
        {
          "data": {
            "text/plain": [
              "DataFrame[]"
            ]
          },
          "execution_count": 10,
          "metadata": {},
          "output_type": "execute_result"
        }
      ],
      "source": [
        "# Create a database\n",
        "spark.sql('CREATE DATABASE IF NOT EXISTS  desp')"
      ]
    },
    {
      "cell_type": "code",
      "execution_count": null,
      "metadata": {
        "id": "VYtrAM8qIxCW"
      },
      "outputs": [],
      "source": [
        "# Command to position yourself within the desp database\n",
        "spark.sql('USE desp')"
      ]
    },
    {
      "cell_type": "code",
      "execution_count": 12,
      "metadata": {
        "colab": {
          "base_uri": "https://localhost:8080/"
        },
        "id": "UuWPY6UqI0R4",
        "outputId": "f97d51d6-5925-47da-a991-65c545236b53"
      },
      "outputs": [
        {
          "name": "stdout",
          "output_type": "stream",
          "text": [
            "+-----------+---------+------+---+------+--------+-------------+---------+--------------+---------------+------+\n",
            "|CreditScore|Geography|Gender|Age|Tenure| Balance|NumOfProducts|HasCrCard|IsActiveMember|EstimatedSalary|Exited|\n",
            "+-----------+---------+------+---+------+--------+-------------+---------+--------------+---------------+------+\n",
            "|        619|   France|Female| 42|     2|       0|            1|        1|             1|       10134888|     1|\n",
            "|        608|    Spain|Female| 41|     1| 8380786|            1|        0|             1|       11254258|     0|\n",
            "|        502|   France|Female| 42|     8| 1596608|            3|        1|             0|       11393157|     1|\n",
            "|        699|   France|Female| 39|     1|       0|            2|        0|             0|        9382663|     0|\n",
            "|        850|    Spain|Female| 43|     2|12551082|            1|        1|             1|         790841|     0|\n",
            "|        645|    Spain|  Male| 44|     8|11375578|            2|        1|             0|       14975671|     1|\n",
            "|        822|   France|  Male| 50|     7|       0|            2|        1|             1|         100628|     0|\n",
            "|        376|  Germany|Female| 29|     4|11504674|            4|        1|             0|       11934688|     1|\n",
            "|        501|   France|  Male| 44|     4|14205107|            2|        0|             1|         749405|     0|\n",
            "|        684|   France|  Male| 27|     2|13460388|            1|        1|             1|        7172573|     0|\n",
            "|        528|   France|  Male| 31|     6|10201672|            2|        0|             0|        8018112|     0|\n",
            "|        497|    Spain|  Male| 24|     3|       0|            2|        1|             0|        7639001|     0|\n",
            "|        476|   France|Female| 34|    10|       0|            2|        1|             0|        2626098|     0|\n",
            "|        549|   France|Female| 25|     5|       0|            2|        0|             0|       19085779|     0|\n",
            "|        635|    Spain|Female| 35|     7|       0|            2|        1|             1|        6595165|     0|\n",
            "|        616|  Germany|  Male| 45|     3|14312941|            2|        0|             1|        6432726|     0|\n",
            "|        653|  Germany|  Male| 58|     1|13260288|            1|        1|             0|         509767|     1|\n",
            "|        549|    Spain|Female| 24|     9|       0|            2|        1|             1|        1440641|     0|\n",
            "|        587|    Spain|  Male| 45|     6|       0|            1|        0|             0|       15868481|     0|\n",
            "|        726|   France|Female| 24|     6|       0|            2|        1|             1|        5472403|     0|\n",
            "+-----------+---------+------+---+------+--------+-------------+---------+--------------+---------------+------+\n",
            "only showing top 20 rows\n",
            "\n"
          ]
        }
      ],
      "source": [
        "# Insert the file into a dataframe and display it\n",
        "churn_df = spark.read.csv('/content/Churn.csv', sep=';', header=True, inferSchema=True)\n",
        "churn_df.show()"
      ]
    },
    {
      "cell_type": "code",
      "execution_count": 13,
      "metadata": {
        "id": "aYg4431XJ89F"
      },
      "outputs": [],
      "source": [
        "# Partition the churn_df by the geography column and then save it in the database as a table\n",
        "\n",
        "# After completing the command, you can see that within the spark-warehouse/churn directory, there is a folder based on each of the cardinal values\n",
        "# generated a folder, in which each of the folders contains the values ​​divided by the geography column (France, Germany, Spain)\n",
        "churn_df.write.partitionBy('Geography').saveAsTable('churn')"
      ]
    },
    {
      "cell_type": "markdown",
      "metadata": {
        "id": "dLPBOnXYoYq_"
      },
      "source": []
    },
    {
      "cell_type": "code",
      "execution_count": 20,
      "metadata": {
        "colab": {
          "base_uri": "https://localhost:8080/"
        },
        "id": "HFDguIonKes5",
        "outputId": "6b9ae3aa-cbdc-4219-8697-6617072b2954"
      },
      "outputs": [
        {
          "name": "stdout",
          "output_type": "stream",
          "text": [
            "+-----------+------+---+------+--------+-------------+---------+--------------+---------------+------+---------+\n",
            "|CreditScore|Gender|Age|Tenure| Balance|NumOfProducts|HasCrCard|IsActiveMember|EstimatedSalary|Exited|Geography|\n",
            "+-----------+------+---+------+--------+-------------+---------+--------------+---------------+------+---------+\n",
            "|        619|Female| 42|     2|       0|            1|        1|             1|       10134888|     1|   France|\n",
            "|        502|Female| 42|     8| 1596608|            3|        1|             0|       11393157|     1|   France|\n",
            "|        699|Female| 39|     1|       0|            2|        0|             0|        9382663|     0|   France|\n",
            "|        822|  Male| 50|     7|       0|            2|        1|             1|         100628|     0|   France|\n",
            "|        501|  Male| 44|     4|14205107|            2|        0|             1|         749405|     0|   France|\n",
            "|        684|  Male| 27|     2|13460388|            1|        1|             1|        7172573|     0|   France|\n",
            "|        528|  Male| 31|     6|10201672|            2|        0|             0|        8018112|     0|   France|\n",
            "|        476|Female| 34|    10|       0|            2|        1|             0|        2626098|     0|   France|\n",
            "|        549|Female| 25|     5|       0|            2|        0|             0|       19085779|     0|   France|\n",
            "|        726|Female| 24|     6|       0|            2|        1|             1|        5472403|     0|   France|\n",
            "|        732|  Male| 41|     8|       0|            2|        1|             1|       17088617|     0|   France|\n",
            "|        669|  Male| 46|     3|       0|            2|        0|             1|         848775|     0|   France|\n",
            "|        846|Female| 38|     5|       0|            1|        1|             1|       18761616|     0|   France|\n",
            "|        577|  Male| 25|     3|       0|            2|        0|             1|       12450829|     0|   France|\n",
            "|        571|  Male| 44|     9|       0|            2|        0|             0|        3843335|     0|   France|\n",
            "|        411|  Male| 29|     0| 5969717|            2|        1|             1|        5348321|     0|   France|\n",
            "|        533|  Male| 36|     7|  853117|            1|        0|             1|       15673191|     0|   France|\n",
            "|        475|Female| 45|     0|13426404|            1|        1|             0|        2782299|     1|   France|\n",
            "|        850|  Male| 36|     7|       0|            1|        1|             1|         408129|     0|   France|\n",
            "|        465|Female| 51|     8|12252232|            1|        0|             0|       18129765|     1|   France|\n",
            "|        556|Female| 61|     2|11741935|            1|        1|             1|        9415383|     0|   France|\n",
            "|        834|Female| 49|     2|13139456|            1|        0|             0|       19436576|     1|   France|\n",
            "|        788|Female| 33|     5|       0|            2|        0|             0|       11697819|     0|   France|\n",
            "|        619|  Male| 43|     1|12521192|            1|        1|             1|       11341049|     0|   France|\n",
            "|        656|  Male| 45|     5| 1278644|            1|        1|             0|        8710757|     0|   France|\n",
            "|        614|  Male| 51|     4| 4068592|            1|        1|             1|        4677528|     0|   France|\n",
            "|        675|Female| 21|     8| 9837326|            1|        1|             0|          18203|     0|   France|\n",
            "|        813|  Male| 29|     6|       0|            1|        1|             0|        3395387|     0|   France|\n",
            "|        519|  Male| 36|     9|       0|            2|        0|             1|        1455624|     0|   France|\n",
            "|        735|Female| 21|     1|17871819|            2|        1|             0|          22388|     0|   France|\n",
            "|        664|  Male| 55|     8|       0|            2|        1|             1|       13916164|     0|   France|\n",
            "|        678|Female| 32|     9|       0|            1|        1|             1|       14821064|     0|   France|\n",
            "|        665|Female| 34|     1| 9664554|            2|        0|             0|       17141366|     0|   France|\n",
            "|        777|Female| 32|     2|       0|            1|        1|             0|       13645819|     1|   France|\n",
            "|        543|Female| 36|     3|       0|            2|        0|             0|        2601959|     0|   France|\n",
            "|        506|Female| 34|     4| 9030762|            1|        1|             1|       15923529|     0|   France|\n",
            "|        493|Female| 46|     4|       0|            2|        1|             0|         190766|     0|   France|\n",
            "|        729|  Male| 30|     9|       0|            2|        1|             0|       15186935|     0|   France|\n",
            "|        646|Female| 46|     4|       0|            3|        1|             0|        9325142|     1|   France|\n",
            "|        808|  Male| 45|     7|11862655|            2|        1|             0|       14713246|     0|   France|\n",
            "|        524|Female| 36|    10|       0|            2|        1|             0|       10961457|     0|   France|\n",
            "|        769|  Male| 29|     8|       0|            2|        1|             1|       17229061|     0|   France|\n",
            "|        413|  Male| 34|     9|       0|            2|        0|             0|         653418|     0|   France|\n",
            "|        665|Female| 40|     6|       0|            1|        1|             1|       16184803|     0|   France|\n",
            "|        623|Female| 44|     6|       0|            2|        0|             0|       16716243|     0|   France|\n",
            "|        738|  Male| 31|     9| 8267415|            1|        1|             0|        4197072|     0|   France|\n",
            "|        562|  Male| 42|     2|10023835|            1|        0|             0|        8679741|     0|   France|\n",
            "|        506|Female| 41|     1|       0|            2|        1|             0|         317663|     0|   France|\n",
            "|        828|  Male| 34|     8|12943334|            2|        0|             0|        3813177|     0|   France|\n",
            "|        656|Female| 39|     6|       0|            2|        1|             0|       14106988|     0|   France|\n",
            "|        625|Female| 28|     3|       0|            1|        0|             0|       18364641|     0|   France|\n",
            "|        432|  Male| 42|     9|15260345|            1|        1|             0|       11026524|     1|   France|\n",
            "|        549|Female| 52|     1|       0|            1|        0|             1|         863605|     1|   France|\n",
            "|        828|Female| 41|     7|       0|            2|        1|             0|       17137877|     0|   France|\n",
            "|        770|  Male| 24|     9|10182707|            1|        1|             0|       16725635|     0|   France|\n",
            "|        758|Female| 34|     3|       0|            2|        1|             1|       12422616|     0|   France|\n",
            "|        687|  Male| 38|     9|12257087|            1|        1|             1|        3560888|     0|   France|\n",
            "|        686|  Male| 25|     1|       0|            2|        0|             1|        1645937|     0|   France|\n",
            "|        637|  Male| 40|     2| 1334631|            1|        0|             1|        9316534|     0|   France|\n",
            "|        663|  Male| 34|     7|       0|            2|        1|             1|       18042724|     0|   France|\n",
            "|        682|Female| 43|     5|12585193|            1|        1|             1|       19331833|     0|   France|\n",
            "|        691|Female| 31|     5| 4091555|            1|        1|             0|       12621384|     1|   France|\n",
            "|        650|  Male| 37|     5|10696718|            1|        0|             0|        2449503|     0|   France|\n",
            "|        735|  Male| 44|     9|12068163|            1|        1|             0|        7483634|     0|   France|\n",
            "|        416|  Male| 32|     0|       0|            2|        0|             1|          87887|     0|   France|\n",
            "|        535|Female| 48|     9|       0|            1|        1|             0|       14989279|     1|   France|\n",
            "|        539|  Male| 37|     2|12760959|            1|        1|             0|        9864622|     0|   France|\n",
            "|        614|Female| 43|     6|       0|            2|        1|             1|       10904153|     0|   France|\n",
            "|        758|Female| 33|     7|       0|            2|        0|             0|        8299647|     0|   France|\n",
            "|        646|Female| 73|     6| 9725925|            1|        0|             1|       10471966|     0|   France|\n",
            "|        684|  Male| 30|     2|       0|            2|        1|             0|        8347382|     0|   France|\n",
            "|        800|Female| 49|     7|10800736|            1|        0|             0|        4712511|     0|   France|\n",
            "|        484|Female| 29|     4|13011439|            1|        1|             0|       16401789|     0|   France|\n",
            "|        578|  Male| 30|     4|16946209|            1|        1|             0|       11218711|     0|   France|\n",
            "|        512|  Male| 40|     5|       0|            2|        1|             1|       14645783|     0|   France|\n",
            "|        510|Female| 30|     0|       0|            2|        1|             1|       13055347|     0|   France|\n",
            "|        510|  Male| 65|     2|       0|            2|        1|             1|        4807161|     0|   France|\n",
            "|        636|  Male| 42|     2|       0|            2|        1|             1|        5547078|     0|   France|\n",
            "|        804|Female| 50|     4|       0|            1|        1|             1|         854687|     1|   France|\n",
            "|        514|  Male| 32|     8|       0|            2|        1|             0|        9585718|     0|   France|\n",
            "|        730|Female| 39|     1| 9901067|            1|        1|             0|        1949458|     0|   France|\n",
            "|        715|Female| 41|     8| 5621485|            2|        0|             0|        9298261|     1|   France|\n",
            "|        512|Female| 36|     3| 8432777|            2|        1|             0|        1767536|     0|   France|\n",
            "|        479|  Male| 40|     1|       0|            2|        0|             0|       11499643|     0|   France|\n",
            "|        601|  Male| 32|     8| 9301289|            1|        1|             0|        8695742|     0|   France|\n",
            "|        807|  Male| 35|     3|17479015|            1|        1|             1|          60036|     0|   France|\n",
            "|        501|  Male| 57|    10|       0|            2|        1|             1|        4784719|     0|   France|\n",
            "|        521|  Male| 35|     6| 9642384|            1|        1|             0|        1048844|     0|   France|\n",
            "|        759|  Male| 42|     4|10542018|            1|        0|             1|       12140906|     0|   France|\n",
            "|        711|Female| 38|     2|12902206|            2|        1|             1|        1437486|     1|   France|\n",
            "|        550|  Male| 37|     3|       0|            1|        1|             1|       17967031|     0|   France|\n",
            "|        618|  Male| 34|     5|13495453|            1|        1|             1|       15195439|     0|   France|\n",
            "|        643|  Male| 45|     5|       0|            1|        1|             0|        1425135|     1|   France|\n",
            "|        671|  Male| 45|     2|10637685|            1|        0|             1|       15826462|     0|   France|\n",
            "|        603|  Male| 31|     8|       0|            2|        1|             1|       16991502|     0|   France|\n",
            "|        620|Female| 41|     9|       0|            2|        0|             0|        8885247|     0|   France|\n",
            "|        676|Female| 34|     1| 6309501|            1|        1|             1|        4064581|     0|   France|\n",
            "|        695|  Male| 46|     7| 4951255|            1|        1|             0|       13300734|     0|   France|\n",
            "|        807|  Male| 43|     1|10579932|            2|        1|             0|        3488804|     1|   France|\n",
            "|        592|  Male| 54|     8|       0|            1|        1|             1|        2873771|     1|   France|\n",
            "+-----------+------+---+------+--------+-------------+---------+--------------+---------------+------+---------+\n",
            "only showing top 100 rows\n",
            "\n"
          ]
        }
      ],
      "source": [
        "# During the table consultation, it can be seen that the data remained unchanged, with the following changes:\n",
        "# They are in ascending order and the column was positioned last\n",
        "spark.sql('select * from churn').show(100)"
      ]
    },
    {
      "attachments": {},
      "cell_type": "markdown",
      "metadata": {},
      "source": [
        "## Considerações de análise\n",
        "\n",
        " Na aba de arquivos, dentro do collab, você irá verificar que foi criada uma pasta spark-warehouse. Dentro dela haverá um diretório chamado churn, onde nesse diretório estarão alocados os arquivos particionados.\n",
        "\n",
        "### Observação\n",
        "\n",
        " No spark, os arquivos, por padrão são salvos no modelo parquet"
      ]
    }
  ],
  "metadata": {
    "colab": {
      "provenance": []
    },
    "kernelspec": {
      "display_name": "Python 3",
      "language": "python",
      "name": "python3"
    },
    "language_info": {
      "name": "python",
      "version": "3.7.9 (tags/v3.7.9:13c94747c7, Aug 17 2020, 18:58:18) [MSC v.1900 64 bit (AMD64)]"
    },
    "vscode": {
      "interpreter": {
        "hash": "f31034b11340f484efceab0eb6d94becdf261a95b0140f3d34fc1900eaee3d71"
      }
    }
  },
  "nbformat": 4,
  "nbformat_minor": 0
}
